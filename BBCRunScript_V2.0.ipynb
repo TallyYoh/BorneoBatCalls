{
 "cells": [
  {
   "cell_type": "markdown",
   "id": "fef1ce37",
   "metadata": {},
   "source": [
    "# BATS OF BORNEO SEMI-AUTOMATED CLASSIFIER FOR ECHOLOCATION CALLS (2021) \n",
    "By Natalie Yoh (https://github.com/TallyYoh; tallyyoh@gmail.com)\n",
    "\n",
    "Cite as - Yoh, N., Kingston, T., McArthur, E., Aylen, O.E., Huang, J.C.C., Jinggong, E.R., Khan, F.A.A., Lee, B.P.Y.H., Mitchell, S.L.M., Bicknell, J.E., and Struebig, M.J. (2022). A machine learning framework to classify Southeast Asian echolocating bats, Ecological Indicators, 136. doi:10.1016/j.ecolind.2022.108696 ​ \n",
    "\n",
    "\n",
    "This script applies the Borneo Bat Classifier (BBC) machine learning classifier to collated bat call parameter measurements from Borneo and assigns relevant labels   \n",
    "###### The output includes: \n",
    "-   Pulse measurements \n",
    "-   Predicted classification labels (call type/sonotype/species)\n",
    "-   Confidence of classification labels\n",
    "-   Script to locate files based on labels & confidence on your desktop & reorder them for manual verification\n",
    "\n",
    "###### Software used to create classifier\n",
    "-   R v3.6.3 \n",
    "-\tKaleidoscope v5.1.9g (Wildlife Acoustics, 2019)\n",
    "-\tAdobe Audition v12.1.5 (Adobe Creative Cloud)\n",
    "\n",
    "###### Contributors \n",
    "- Tigga Kingston (Department of Biological Sciences at Texas Tech University and the Southeast Asian Bat Conservation Research                   Unit, Lubbock, Texas, United Stated of America)\n",
    "- Joe Chun-Chia Huang (Taiwan Forestry Research Institute, Taipei, Taiwan)\n",
    "- Ellen McArthur (Faculty of Resource Science and Technology, Universiti Malaysia Sarawak)\n",
    "- Benjamin P.Y.-H. Lee (Wildlife Management Division, National Parks Board, Singapore)\n",
    "- Faisal Ali Anwarali Khan (Faculty of Resource Science and Technology, Universiti Malaysia Sarawak)\n",
    "- Emy Ritta Jinggong (Faculty of Resource Science and Technology, Universiti Malaysia Sarawak)\n",
    "- Oliver E. Aylen (, Department of Zoology, University of Otago, Otago, New Zealand)\n",
    "- Simon L. Mitchell  (DICE, School of Anthropology and Conservation, University of Kent, Canterbury, United Kingdom)\n",
    "- Jake Bicknell (DICE, School of Anthropology and Conservation, University of Kent, Canterbury, United Kingdom)\n",
    "- Matthew Struebig (DICE, School of Anthropology and Conservation, University of Kent, Canterbury, United Kingdom)\n",
    "\n",
    "*** Our aim is continuously test and update this tool as new reference data becomes available. Therefore, we would greatly appreciate users sharing any issues they find, particularly if this relates to species' IDs. Thank you! ***\n",
    "\n",
    "###### Updates from v1.0: \n",
    "-   The call parameter data used in the v2.0 models is no longer scaled to ensure predictions are made on \"true\" numerical values\n",
    "-   The naming error for the FMqCF sonotypes has been corrected\n",
    "\n",
    "\n",
    "## 1. PREPARE ENVIRONMENT"
   ]
  },
  {
   "cell_type": "markdown",
   "id": "7c961d19",
   "metadata": {},
   "source": [
    "#### Set memory size for Jupyter/R kernels"
   ]
  },
  {
   "cell_type": "code",
   "execution_count": null,
   "id": "4b79d544",
   "metadata": {},
   "outputs": [],
   "source": [
    "memory.size()\n",
    "memory.limit(size=56000) "
   ]
  },
  {
   "cell_type": "markdown",
   "id": "f98fe975",
   "metadata": {},
   "source": [
    "#### Load packages \n",
    "Specify where your package directory"
   ]
  },
  {
   "cell_type": "code",
   "execution_count": null,
   "id": "207c8165",
   "metadata": {},
   "outputs": [],
   "source": [
    "Dir_packages    <-\"C:/Users/Documents/R/win-library\"\n",
    "setwd(Dir_packages)"
   ]
  },
  {
   "cell_type": "markdown",
   "id": "c8c73e81",
   "metadata": {},
   "source": [
    "Load packages "
   ]
  },
  {
   "cell_type": "code",
   "execution_count": null,
   "id": "23c1d417",
   "metadata": {},
   "outputs": [],
   "source": [
    "library(bioacoustics)                         # For extracting call parameters\n",
    "library(caret)                                # For supervised machine learning\n",
    "library(dplyr)                                # For data manipulation/selection\n",
    "library(gdata)                                # For data manipulation/selection \n",
    "library(pbapply)                              # For progress bar"
   ]
  },
  {
   "cell_type": "markdown",
   "id": "4055756c",
   "metadata": {},
   "source": [
    "#### Specify user directories for importing & exporting\n",
    "##### !!! Before running, please ensure there is a back up copy of your raw files !!! \n",
    "##### Script includes moving files directly in file location\n",
    "\n",
    "- Dir_clean_files_WAV     = File location for 5 second calls  (including all subfolders)\n",
    "- Dir_user_inputs         = File location for csv inputs (e.g. threshold info)\n",
    "- Dir_user_outputs        = File location for data outputs\n",
    "- Dir_classifier_models   = File location for importing classifier models\n",
    "- Dir_files_AutoID_WAV    = File location for WAV files to be manually verified"
   ]
  },
  {
   "cell_type": "code",
   "execution_count": null,
   "id": "0e183f64",
   "metadata": {},
   "outputs": [],
   "source": [
    "Dir_clean_files_WAV        <-\"F:/Data_wav5sec_clean/All_WAV\"                                                         \n",
    "Dir_user_inputs            <-\"F:/R_inputs\"                                 \n",
    "Dir_user_outputs           <-\"F:/Data_wav5sec_IDs_auto/CSVexports\"         \n",
    "Dir_classifier_models      <-\"F:/R_Models\"                         \n",
    "Dir_files_AutoID_WAV       <-\"F:/Data_wav5sec_IDs_auto\" "
   ]
  },
  {
   "cell_type": "markdown",
   "id": "49251cfd",
   "metadata": {},
   "source": [
    "## 2. LOAD MODELS \n",
    "Set working directory to folder where models are stored "
   ]
  },
  {
   "cell_type": "code",
   "execution_count": null,
   "id": "e82f727d",
   "metadata": {},
   "outputs": [],
   "source": [
    "setwd(Dir_classifier_models)"
   ]
  },
  {
   "cell_type": "markdown",
   "id": "c8622b5f",
   "metadata": {},
   "source": [
    "#### Load models\n",
    "Load stage 1 model to call type"
   ]
  },
  {
   "cell_type": "code",
   "execution_count": null,
   "id": "0f5e13fd",
   "metadata": {},
   "outputs": [],
   "source": [
    "model_S1_type <-  readRDS(\"model_Type_1000_v2.0.rds\")"
   ]
  },
  {
   "cell_type": "markdown",
   "id": "f39b68c3",
   "metadata": {},
   "source": [
    "Load stage 2 model - to CF species"
   ]
  },
  {
   "cell_type": "code",
   "execution_count": null,
   "id": "ff3f0e08",
   "metadata": {},
   "outputs": [],
   "source": [
    "model_S2_CF   <-  readRDS(\"model_CF_1000_v2.0.rds\")"
   ]
  },
  {
   "cell_type": "markdown",
   "id": "d1269d98",
   "metadata": {},
   "source": [
    "Load stage 3 model - to FMqCF sonotype"
   ]
  },
  {
   "cell_type": "code",
   "execution_count": null,
   "id": "53b1b763",
   "metadata": {},
   "outputs": [],
   "source": [
    "model_S3_FMqCF <-  readRDS(\"model_FMqCF_2000_v2.0.rds\")"
   ]
  },
  {
   "cell_type": "markdown",
   "id": "2b37a198",
   "metadata": {},
   "source": [
    "#### Load threshold reference information\n",
    "Set working directory & import csv"
   ]
  },
  {
   "cell_type": "code",
   "execution_count": null,
   "id": "6a690768",
   "metadata": {},
   "outputs": [],
   "source": [
    "setwd(Dir_user_inputs)\n",
    "Data_thres   <-read.csv(\"ThresholdValues.csv\")"
   ]
  },
  {
   "cell_type": "markdown",
   "id": "77e6c396",
   "metadata": {},
   "source": [
    "## 3. IMPORT & EXTRACT CALL PARAMETERS\n",
    "### Extracts call parameters from WAV files for classification using the Bioacoustic.R package\n",
    "WAV files for import should first have been subset to 5 second fragments to quantify a bat pass \n",
    "& be filtered for noise in Kaliedoscope or other sound analysis software. \n",
    "See Yoh et al. (2021) for more information\n",
    "\n",
    "#### Select file directories for where files are stored. This will perform extractions in two batches "
   ]
  },
  {
   "cell_type": "code",
   "execution_count": null,
   "id": "1a8aa9bb",
   "metadata": {},
   "outputs": [],
   "source": [
    "files_P1        <- dir(Dir_clean_files_WAV, recursive = TRUE, full.names = TRUE, pattern = \"[.]wav$\")"
   ]
  },
  {
   "cell_type": "markdown",
   "id": "b8e6e64a",
   "metadata": {},
   "source": [
    "#### Filter files for those identified as noise in Kaliedoscope\n"
   ]
  },
  {
   "cell_type": "code",
   "execution_count": null,
   "id": "9b13ac70",
   "metadata": {},
   "outputs": [],
   "source": [
    "# convert to dataframe\n",
    "files_P1        <-as.data.frame(files_P1) \n",
    "\n",
    "# remove files listed as \"noise\"\n",
    "files_P1_crop   <-as.character(files_P1[!grepl(\"NOISE\", files_P1$files_P1),]) "
   ]
  },
  {
   "cell_type": "markdown",
   "id": "42f3195a",
   "metadata": {},
   "source": [
    "#### Detect & extract pulse measurements\n",
    "Extractions conducted using the Bioacoustics.R package threshold function (https://rdrr.io/cran/bioacoustics/)\n",
    "Extractions can be performed for time expansion 1 or 10 as necessary (use \"time_exp = 10\" if necessary)"
   ]
  },
  {
   "cell_type": "code",
   "execution_count": null,
   "id": "5d6453d7",
   "metadata": {},
   "outputs": [],
   "source": [
    "TDP1   <- setNames(\n",
    "              pblapply(\n",
    "                    files_P1_crop,\n",
    "                    threshold_detection,\n",
    "                    time_exp = 1, \n",
    "                    threshold = 4,\n",
    "                    SNR_thr = 4,\n",
    "                    FFT_size = 512,), basename(files_P1_crop))"
   ]
  },
  {
   "cell_type": "markdown",
   "id": "72033f2d",
   "metadata": {},
   "source": [
    "#### Collate measurements"
   ]
  },
  {
   "cell_type": "markdown",
   "id": "62a5fe0b",
   "metadata": {},
   "source": [
    "Remove filenames where no values were extracted (e.g. only noise)"
   ]
  },
  {
   "cell_type": "code",
   "execution_count": null,
   "id": "ffb4f3de",
   "metadata": {},
   "outputs": [],
   "source": [
    "TDP1    <- TDP1[lapply(TDP1, function(x) length(x$data)) > 0]"
   ]
  },
  {
   "cell_type": "markdown",
   "id": "3a02948f",
   "metadata": {},
   "source": [
    "Keep the extracted features and merge in a single data frame for further analysis"
   ]
  },
  {
   "cell_type": "code",
   "execution_count": null,
   "id": "6e779160",
   "metadata": {},
   "outputs": [],
   "source": [
    "Data_WAV_raw  <- do.call(\"rbind\", c(lapply(TDP1, function(x) x$data$event_data), \n",
    "                                             list(stringsAsFactors = FALSE)))"
   ]
  },
  {
   "cell_type": "markdown",
   "id": "2833dac0",
   "metadata": {},
   "source": [
    "Remove file extention from filenames "
   ]
  },
  {
   "cell_type": "code",
   "execution_count": null,
   "id": "c455d95d",
   "metadata": {},
   "outputs": [],
   "source": [
    "Data_WAV_raw$filename <-sub(pattern = \"(.*)\\\\..*$\", replacement = \"\\\\1\", basename(Data_WAV_raw$filename))\n",
    "head(Data_WAV_raw)"
   ]
  },
  {
   "cell_type": "markdown",
   "id": "c13d3cf1",
   "metadata": {},
   "source": [
    "#### Include filename location information "
   ]
  },
  {
   "cell_type": "markdown",
   "id": "cb58d18c",
   "metadata": {},
   "source": [
    "Extract filename from file locations "
   ]
  },
  {
   "cell_type": "code",
   "execution_count": null,
   "id": "420a5fc1",
   "metadata": {},
   "outputs": [],
   "source": [
    "filename     <-sub(pattern = \"(.*)\\\\..*$\", replacement = \"\\\\1\", basename(files_P1_crop))"
   ]
  },
  {
   "cell_type": "markdown",
   "id": "12b0b57f",
   "metadata": {},
   "source": [
    "Create dataframe with full file location & filename"
   ]
  },
  {
   "cell_type": "code",
   "execution_count": null,
   "id": "602f9bd7",
   "metadata": {},
   "outputs": [],
   "source": [
    "FileLoc      <-data.frame(FileLoc=totalfileloc, filename=filename)"
   ]
  },
  {
   "cell_type": "markdown",
   "id": "e8396428",
   "metadata": {},
   "source": [
    "Add to main dataframe"
   ]
  },
  {
   "cell_type": "code",
   "execution_count": null,
   "id": "4bfc79c8",
   "metadata": {},
   "outputs": [],
   "source": [
    "Data_WAV_raw <-merge(Data_WAV_raw, FileLoc, by=\"filename\")  "
   ]
  },
  {
   "cell_type": "markdown",
   "id": "1c9bc2ec",
   "metadata": {},
   "source": [
    "### Clean & export pulse measurements\n",
    "Rename columns - Include/remove additionals where applicable"
   ]
  },
  {
   "cell_type": "code",
   "execution_count": null,
   "id": "4b5898d4",
   "metadata": {},
   "outputs": [],
   "source": [
    "colnames(Data_WAV_raw) <-c(\"Filename\", \"starting_time\", \"duration\",  \"freq_max_amp\" , \"freq_max\", \n",
    "                           \"freq_min\", \"bandwidth\",  \"freq_start\", \"freq_center\",\"freq_end\",    \n",
    "                           \"freq_knee\", \"fc\",\"freq_bw_knee_fc\", \"bin_max_amp\",\"pc_freq_max_amp\",     \n",
    "                            \"pc_freq_max\", \"pc_freq_min\", \"pc_knee\", \"temp_bw_knee_fc\", \"slope\", \n",
    "                            \"kalman_slope\", \"curve_neg\", \"curve_pos_start\", \"curve_pos_end\",\n",
    "                            \"mid_offset\" ,\"snr\", \"hd\",\"smoothness\", \"FileLoc\") \n",
    "                            "
   ]
  },
  {
   "cell_type": "markdown",
   "id": "bd4cceef",
   "metadata": {},
   "source": [
    "#### Export raw call parameters"
   ]
  },
  {
   "cell_type": "code",
   "execution_count": null,
   "id": "bc38eee9",
   "metadata": {},
   "outputs": [],
   "source": [
    "setwd(Dir_user_outputs)\n",
    "write.csv(Data_WAV_raw, file=\"Data_Callparameters_unclassified.csv\", na = \"NA\")"
   ]
  },
  {
   "cell_type": "markdown",
   "id": "c5e34725",
   "metadata": {},
   "source": [
    "#### Create row ID for tracking pulses"
   ]
  },
  {
   "cell_type": "code",
   "execution_count": null,
   "id": "cd1e8ce4",
   "metadata": {},
   "outputs": [],
   "source": [
    "Data_WAV_raw$ID         <-as.vector(1:nrow(Data_WAV_raw))"
   ]
  },
  {
   "cell_type": "markdown",
   "id": "b00ee580",
   "metadata": {},
   "source": [
    "#### Isolate call parameter data\n",
    "Note - In previous versions, the call parameter data was scaled at this point. This step is no longer necessary and has been removed"
   ]
  },
  {
   "cell_type": "code",
   "execution_count": null,
   "id": "b18974d1",
   "metadata": {},
   "outputs": [],
   "source": [
    "Data_CallValues_Scaled  <-as.data.frame(subset(Data_WAV_raw, \n",
    "                                                     select = -c(Filename, FileLoc, starting_time, ID)))"
   ]
  },
  {
   "cell_type": "markdown",
   "id": "c5453ade",
   "metadata": {},
   "source": [
    "#### Select row information"
   ]
  },
  {
   "cell_type": "code",
   "execution_count": null,
   "id": "00510b42",
   "metadata": {},
   "outputs": [],
   "source": [
    "Data_RowInfo            <-subset(Data_WAV_raw, select = c(ID, Filename, FileLoc, starting_time))"
   ]
  },
  {
   "cell_type": "markdown",
   "id": "2783b3e6",
   "metadata": {},
   "source": [
    "#### Recombine"
   ]
  },
  {
   "cell_type": "code",
   "execution_count": null,
   "id": "14422496",
   "metadata": {},
   "outputs": [],
   "source": [
    "Data_WAV_scaled         <-droplevels(cbind(Data_RowInfo,Data_CallValues_Scaled))"
   ]
  },
  {
   "cell_type": "markdown",
   "id": "9aa67bed",
   "metadata": {},
   "source": [
    "## 4. PERFORM CLASSIFICATIONS - STAGE 1\n",
    "### Predict the call type of each file using the first machine learning model \n",
    "#### Run predictions\n",
    "\n",
    "Run prediction without confidence values"
   ]
  },
  {
   "cell_type": "code",
   "execution_count": null,
   "id": "6ba69e87",
   "metadata": {},
   "outputs": [],
   "source": [
    "predictionsResultsType           <-predict(model_S1_type, Data_CallValues_Scaled)"
   ]
  },
  {
   "cell_type": "markdown",
   "id": "0c40fbcd",
   "metadata": {},
   "source": [
    "Run prediction with confidence values"
   ]
  },
  {
   "cell_type": "code",
   "execution_count": null,
   "id": "8a237b27",
   "metadata": {},
   "outputs": [],
   "source": [
    "PredictionResultsTypeProb        <-predict(model_S1_type, Data_CallValues_Scaled, type = \"prob\")\n",
    "\n",
    "PredictionResultsTypeProb$ID     <-as.vector(Data_WAV_raw$ID)\n",
    "\n",
    "PredictionResultsTypeProb$ID     <-as.factor(as.character(PredictionResultsTypeProb$ID))"
   ]
  },
  {
   "cell_type": "markdown",
   "id": "7ff8cad0",
   "metadata": {},
   "source": [
    "#### Combine predictions with confidence values"
   ]
  },
  {
   "cell_type": "code",
   "execution_count": null,
   "id": "a3c63223",
   "metadata": {},
   "outputs": [],
   "source": [
    "PredictionResultsTypeCombined    <-cbind(PredictionResultsTypeProb, predictionsResultsType)"
   ]
  },
  {
   "cell_type": "markdown",
   "id": "7adceb7b",
   "metadata": {},
   "source": [
    "#### Combine with file information"
   ]
  },
  {
   "cell_type": "code",
   "execution_count": null,
   "id": "01a34bb9",
   "metadata": {},
   "outputs": [],
   "source": [
    "PredictionsFinalStage1           <-merge(PredictionResultsTypeCombined, Data_WAV_scaled, by=\"ID\")"
   ]
  },
  {
   "cell_type": "markdown",
   "id": "9d507311",
   "metadata": {},
   "source": [
    "#### Export stage 1 predictions "
   ]
  },
  {
   "cell_type": "code",
   "execution_count": null,
   "id": "50cc9981",
   "metadata": {},
   "outputs": [],
   "source": [
    "setwd(Dir_user_outputs)\n",
    "write.csv(PredictionsFinalStage1, file=\"Data_PredictionsStage1.csv\", na = \"NA\")"
   ]
  },
  {
   "cell_type": "markdown",
   "id": "e9f4b7b4",
   "metadata": {},
   "source": [
    "### Summarise results \n",
    "#### Summarises the pulse predictions to call type identification to the file/bat pass level\n",
    "Convert to factor for grouping"
   ]
  },
  {
   "cell_type": "code",
   "execution_count": null,
   "id": "1cedc67b",
   "metadata": {},
   "outputs": [],
   "source": [
    "PredictionsFinalStage1$ID            <-as.factor(PredictionsFinalStage1$ID)"
   ]
  },
  {
   "cell_type": "markdown",
   "id": "ef8eb432",
   "metadata": {},
   "source": [
    "Create vectors for grouping columns"
   ]
  },
  {
   "cell_type": "code",
   "execution_count": null,
   "id": "4eb6c672",
   "metadata": {},
   "outputs": [],
   "source": [
    "cols_sp    <- c(\"FM\",\"CF\",\"FMqCF\", \"QCF\")\n",
    "cols_ID    <- c(\"ID\", \"predictionsResultsType\")\n",
    "cols_Files <- c(\"Filename\", \"predictionsResultsType\")"
   ]
  },
  {
   "cell_type": "markdown",
   "id": "1c6e5408",
   "metadata": {},
   "source": [
    "Isolate the confidence of the predicted species into new column"
   ]
  },
  {
   "cell_type": "code",
   "execution_count": null,
   "id": "e64f0da9",
   "metadata": {},
   "outputs": [],
   "source": [
    "Temp_S1_Max_ID <- PredictionsFinalStage1 %>%\n",
    "                          group_by(across(all_of(cols_ID))) %>%\n",
    "                          mutate(MaxByID = max(c(FM, CF, FMqCF, QCF), na.rm = T))"
   ]
  },
  {
   "cell_type": "markdown",
   "id": "ec9e2fe3",
   "metadata": {},
   "source": [
    "Find the pulse of highest confidence within each file for each species  "
   ]
  },
  {
   "cell_type": "code",
   "execution_count": null,
   "id": "28ff5031",
   "metadata": {},
   "outputs": [],
   "source": [
    "RES_S1_summary <- Temp_S1_Max_ID %>%\n",
    "                          group_by(across(all_of(cols_Files))) %>%\n",
    "                          summarise(MaxbyFile = max(MaxByID, na.rm = T))"
   ]
  },
  {
   "cell_type": "markdown",
   "id": "4a38830b",
   "metadata": {},
   "source": [
    "Rename columns"
   ]
  },
  {
   "cell_type": "code",
   "execution_count": null,
   "id": "6b056db5",
   "metadata": {},
   "outputs": [],
   "source": [
    "names(RES_S1_summary)<-c(\"Filename\",\"S1_Prediction\",\"S1_Accuracy\")"
   ]
  },
  {
   "cell_type": "markdown",
   "id": "efed6487",
   "metadata": {},
   "source": [
    "## Isolate files for manual verification & create library\n",
    "#### The following steps if for users who are only using the stage 1 classifications. \n",
    "### Skip to stage 2 (section 5) if you are using stage 2/3 classifications to sonotype/species\n",
    "Selects WAV files which do not reach the necessary confidence threshold using their original filepathways and copies them into a new filepathway based on ID prediction & confidence threshold. \n",
    "\n",
    "#### Determine which files need manual verification\n",
    "Rename column levels to match"
   ]
  },
  {
   "cell_type": "code",
   "execution_count": null,
   "id": "7697b047",
   "metadata": {},
   "outputs": [],
   "source": [
    "colnames(Data_thres) <- c(\"Prediction\", \"Threshold\")"
   ]
  },
  {
   "cell_type": "markdown",
   "id": "efab2213",
   "metadata": {},
   "source": [
    "Merge confidence threshold information with the predictions data"
   ]
  },
  {
   "cell_type": "code",
   "execution_count": null,
   "id": "9100a2e7",
   "metadata": {},
   "outputs": [],
   "source": [
    "RES_S1_summary        <- merge(RES_S1_summary, Data_thres, by = \"Prediction\", keep.all=TRUE)"
   ]
  },
  {
   "cell_type": "markdown",
   "id": "21e322d7",
   "metadata": {},
   "source": [
    "Create threshold level column"
   ]
  },
  {
   "cell_type": "code",
   "execution_count": null,
   "id": "23ec76af",
   "metadata": {},
   "outputs": [],
   "source": [
    "RES_S1_summary$ThresLevel <-\"\""
   ]
  },
  {
   "cell_type": "markdown",
   "id": "a5a8c846",
   "metadata": {},
   "source": [
    "Ensure accuracy column is numeric"
   ]
  },
  {
   "cell_type": "code",
   "execution_count": null,
   "id": "d3129619",
   "metadata": {},
   "outputs": [],
   "source": [
    "RES_S1_summary$Accuracy   <-as.numeric(RES_S1_summary$Accuracy)"
   ]
  },
  {
   "cell_type": "markdown",
   "id": "5ef3858b",
   "metadata": {},
   "source": [
    "Remove predictions below 60% confidence "
   ]
  },
  {
   "cell_type": "code",
   "execution_count": null,
   "id": "54764ccf",
   "metadata": {},
   "outputs": [],
   "source": [
    "RES_S1_summary <-RES_S1_summary[RES_S1_summary$Accuracy > 0.59,]"
   ]
  },
  {
   "cell_type": "markdown",
   "id": "5f0a61fa",
   "metadata": {},
   "source": [
    "Loop to determine which files met the necessarily confidence threshold"
   ]
  },
  {
   "cell_type": "code",
   "execution_count": null,
   "id": "88dd72e1",
   "metadata": {},
   "outputs": [],
   "source": [
    "for (y in 1:nrow(RES_S1_summary)){\n",
    "  \n",
    "  if((RES_S1_summary$Accuracy[y]*100) == RES_S1_summary$Threshold[y]) {\n",
    "    RES_S1_summary$ThresLevel[y] <- \"Met\"\n",
    "  }\n",
    "  \n",
    "  else if ((RES_S1_summary$Accuracy[y]*100) > RES_S1_summary$Threshold[y]) {\n",
    "    RES_S1_summary$ThresLevel[y] <- \"Met\" }\n",
    "  \n",
    "  else if ((RES_S1_summary$Accuracy[y]*100) < RES_S1_summary$Threshold[y]) {\n",
    "    RES_total_sum$ThresLevel[y] <- \"Not Met\" }\n",
    "}"
   ]
  },
  {
   "cell_type": "markdown",
   "id": "6cf53aa9",
   "metadata": {},
   "source": [
    "Filter data for files which did not meet the confidence threshold"
   ]
  },
  {
   "cell_type": "code",
   "execution_count": null,
   "id": "342313fb",
   "metadata": {},
   "outputs": [],
   "source": [
    "DF_NotMet        <-filter(RES_S1_summary, (ThresLevel==\"Not Met\"))"
   ]
  },
  {
   "cell_type": "markdown",
   "id": "d4bce43e",
   "metadata": {},
   "source": [
    "Remove repeated files so a file is only manually checked once       "
   ]
  },
  {
   "cell_type": "code",
   "execution_count": null,
   "id": "df0e7c5f",
   "metadata": {},
   "outputs": [],
   "source": [
    "DF_NotMet_unique <- DF_NotMet[!duplicated(DF_NotMet['filename']),] "
   ]
  },
  {
   "cell_type": "markdown",
   "id": "4b638638",
   "metadata": {},
   "source": [
    "Save data outputs"
   ]
  },
  {
   "cell_type": "code",
   "execution_count": null,
   "id": "83df3a4c",
   "metadata": {},
   "outputs": [],
   "source": [
    "setwd(Dir_user_outputs)\n",
    "write.csv(DF_NotMet_unique, file=\"DF_NotMet_unique.csv\", na = \"NA\")\n",
    "write.csv(RES_S1_summary,   file=\"Data_PredictionsSummary_max.csv\", na = \"NA\")"
   ]
  },
  {
   "cell_type": "markdown",
   "id": "2bcceada",
   "metadata": {},
   "source": [
    "##### !!! THE FOLLOWING CODE WILL MOVE FILES DIRECTORY ON YOUR COMPUTER !!! \n",
    "##### !!! ENSURE IT IS WORKING CORRECTLY USING A TEST FILE/BACK UP YOUR DATA BEFORE PROCEEDING !!!\n"
   ]
  },
  {
   "cell_type": "markdown",
   "id": "d7632186",
   "metadata": {},
   "source": [
    "Specify ID levels"
   ]
  },
  {
   "cell_type": "code",
   "execution_count": null,
   "id": "631fbf3c",
   "metadata": {},
   "outputs": [],
   "source": [
    "Lvls_stageType     <-levels(as.factor(RES_S1_summary$Prediction))"
   ]
  },
  {
   "cell_type": "markdown",
   "id": "95922986",
   "metadata": {},
   "source": [
    "#### Not reversible: Loop to create new folder pathway and copy WAV files - user needs to update pathway below"
   ]
  },
  {
   "cell_type": "code",
   "execution_count": null,
   "id": "f33218a4",
   "metadata": {},
   "outputs": [],
   "source": [
    "for (S in 1:length(Lvls_stageType)){\n",
    "  \n",
    "  # Specify prediction level \n",
    "  TYPE           <-Lvls_stageType[S]\n",
    "  \n",
    "  # Filter data for target species & confidence threshold \n",
    "  RES_total_target  <-filter(DF_NotMet_unique_cleaned, Prediction ==TYPE)\n",
    "  \n",
    "  # Create filename vector including file locations \n",
    "  Sp_file_list      <-as.character(RES_total_target$FileLoc)\n",
    "  \n",
    "  # Create output folder for ID level\n",
    "  setwd(Dir_files_AutoID_WAV)\n",
    "  newdir            <-paste0(TYPE,\"_\", \"ThresholdNotMet\")\n",
    "  dir.create(newdir)\n",
    "  \n",
    "  # Create directory in R to Species specific folder\n",
    "  Dir_temp          <-paste0(\"F:/Data_wav5sec_IDs_auto/\",newdir)     # **** NEEDS UPDATING BY USER ****\n",
    "  \n",
    "  # Go back to input WAV files directory\n",
    "  setwd(Dir_clean_files_WAV2012)\n",
    "  \n",
    "  # Move each individual file to new directory  \n",
    "  for (F in 1:length(Sp_file_list)){ \n",
    "    \n",
    "    # Select file  \n",
    "    FILE     <-Sp_file_list[F]\n",
    "    \n",
    "    # copy files\n",
    "    file.copy(FILE, Dir_temp)\n",
    "    \n",
    "    # Progress bar  \n",
    "    print(c(\"Loop\", S, \"from\", length(Lvls_stageType), \"File\", F, \"from\", length(Sp_file_list)))\n",
    "    \n",
    "  }\n",
    "\n",
    "  \n",
    "}\n"
   ]
  },
  {
   "cell_type": "markdown",
   "id": "1d28673a",
   "metadata": {},
   "source": [
    "#### -------   End for users only classifying to call type  -------  "
   ]
  },
  {
   "cell_type": "markdown",
   "id": "32d601d2",
   "metadata": {},
   "source": [
    "## 5. PERFORM CLASSIFICATIONS - STAGE 2\n",
    "#### Split data based on the predictions from stage 1\n",
    "Remove predictions below 60% confidence "
   ]
  },
  {
   "cell_type": "code",
   "execution_count": null,
   "id": "2b488e9c",
   "metadata": {},
   "outputs": [],
   "source": [
    "Temp_S1_Max_ID <-Temp_S1_Max_ID[Temp_S1_Max_ID$MaxByID > 0.59,]"
   ]
  },
  {
   "cell_type": "markdown",
   "id": "a61dc74c",
   "metadata": {},
   "source": [
    "Divide into Type specific datasets based on predictions"
   ]
  },
  {
   "cell_type": "code",
   "execution_count": null,
   "id": "ffeb48d3",
   "metadata": {},
   "outputs": [],
   "source": [
    "Stage1_FM     <-Temp_S1_Max_ID[Temp_S1_Max_ID$predictionsResultsType==\"FM\", ]\n",
    "Stage1_QCF    <-Temp_S1_Max_ID[Temp_S1_Max_ID$predictionsResultsType==\"QCF\", ]\n",
    "Stage1_FMqCF  <-Temp_S1_Max_ID[Temp_S1_Max_ID$predictionsResultsType==\"FMqCF\", ]\n",
    "Stage1_CF     <-Temp_S1_Max_ID[Temp_S1_Max_ID$predictionsResultsType==\"CF\", ]"
   ]
  },
  {
   "cell_type": "markdown",
   "id": "c62b8654",
   "metadata": {},
   "source": [
    "### For species which were identified as \"CF\" (constant-frequency) conduct a second classification stage using the second machine learning model which prioritises maximum frequency\n",
    "#### Prepare CF data\n",
    "Remove identifying information from CF data "
   ]
  },
  {
   "cell_type": "code",
   "execution_count": null,
   "id": "a6ffe5e0",
   "metadata": {},
   "outputs": [],
   "source": [
    "Data_CallValues_CF_noID         <-Stage1_CF[,c(\"duration\",\"freq_max_amp\" , \"freq_max\", \n",
    "                                               \"freq_min\", \"bandwidth\", \"freq_start\",\"freq_center\",\n",
    "                                               \"freq_end\", \"freq_knee\", \"fc\", \"freq_bw_knee_fc\", \n",
    "                                               \"bin_max_amp\",\"pc_freq_max_amp\", \"pc_freq_max\",     \n",
    "                                               \"pc_freq_min\",\"pc_knee\", \"temp_bw_knee_fc\", \n",
    "                                               \"slope\", \"kalman_slope\", \"curve_neg\", \"curve_pos_start\",\n",
    "                                               \"curve_pos_end\",\"mid_offset\" ,\"snr\", \"hd\", \n",
    "                                               \"smoothness\")]"
   ]
  },
  {
   "cell_type": "markdown",
   "id": "35e50b60",
   "metadata": {},
   "source": [
    "Filter for complete cases"
   ]
  },
  {
   "cell_type": "code",
   "execution_count": null,
   "id": "5ca3965f",
   "metadata": {},
   "outputs": [],
   "source": [
    "Data_CallValues_CF_noID         <-Data_CallValues_CF_noID[complete.cases(Data_CallValues_CF_noID), ] \n",
    "Data_CallValues_CF_noID         <-drop.levels(Data_CallValues_CF_noID)"
   ]
  },
  {
   "cell_type": "markdown",
   "id": "88c7f936",
   "metadata": {},
   "source": [
    "#### Run predictions \n",
    "Run prediction without confidence values"
   ]
  },
  {
   "cell_type": "code",
   "execution_count": null,
   "id": "f7c552e1",
   "metadata": {},
   "outputs": [],
   "source": [
    "predictionsResultsCF            <-predict(model_S2_CF, Data_CallValues_CF_noID)"
   ]
  },
  {
   "cell_type": "markdown",
   "id": "dada6a63",
   "metadata": {},
   "source": [
    "Run prediction without confidence "
   ]
  },
  {
   "cell_type": "code",
   "execution_count": null,
   "id": "403bfcc4",
   "metadata": {},
   "outputs": [],
   "source": [
    "PredictionResultsProb_CF        <-predict(model_S2_CF, Data_CallValues_CF_noID, type = \"prob\")\n",
    "PredictionResultsProb_CF$ID     <-Stage1_CF$ID "
   ]
  },
  {
   "cell_type": "markdown",
   "id": "328289c1",
   "metadata": {},
   "source": [
    "Combine predictions with confidence values"
   ]
  },
  {
   "cell_type": "code",
   "execution_count": null,
   "id": "2fbe463f",
   "metadata": {},
   "outputs": [],
   "source": [
    "PredictionResultsCombined_CF    <-cbind(PredictionResultsProb_CF, predictionsResultsCF)"
   ]
  },
  {
   "cell_type": "markdown",
   "id": "8306f17e",
   "metadata": {},
   "source": [
    "Combine with file information"
   ]
  },
  {
   "cell_type": "code",
   "execution_count": null,
   "id": "d2ba7e57",
   "metadata": {},
   "outputs": [],
   "source": [
    "PredictionsFinalStage2          <-merge(PredictionResultsCombined_CF, Stage1_CF, by=\"ID\")"
   ]
  },
  {
   "cell_type": "markdown",
   "id": "10b8c81f",
   "metadata": {},
   "source": [
    "#### Export stage 2 predictions"
   ]
  },
  {
   "cell_type": "code",
   "execution_count": null,
   "id": "142e4a05",
   "metadata": {},
   "outputs": [],
   "source": [
    "setwd(Dir_user_outputs)\n",
    "write.csv(PredictionsFinalStage2, file=\"Data_PredictionsStage2.csv\", na = \"NA\")"
   ]
  },
  {
   "cell_type": "markdown",
   "id": "ccd3e708",
   "metadata": {},
   "source": [
    "### Run confidence thresholds\n",
    "#### Creates table to see which files meet the confidence thresholds necessary for file structure later\n",
    "Convert ID to factor for grouping"
   ]
  },
  {
   "cell_type": "code",
   "execution_count": null,
   "id": "fdcbc9b7",
   "metadata": {},
   "outputs": [],
   "source": [
    "PredictionsFinalStage2$ID            <-as.factor(PredictionsFinalStage2$ID)"
   ]
  },
  {
   "cell_type": "markdown",
   "id": "0ba09a9d",
   "metadata": {},
   "source": [
    "Identify which CF are present in the data"
   ]
  },
  {
   "cell_type": "code",
   "execution_count": null,
   "id": "ed3d9631",
   "metadata": {},
   "outputs": [],
   "source": [
    "Levels_CF                             <-levels(as.factor(PredictionsFinalStage2$predictionsResultsCF))"
   ]
  },
  {
   "cell_type": "markdown",
   "id": "5aeb8c5e",
   "metadata": {},
   "source": [
    "Create vector for grouping species (***user needs to edit depending on the species listed in Levels_CF***) "
   ]
  },
  {
   "cell_type": "code",
   "execution_count": null,
   "id": "aba5b65e",
   "metadata": {},
   "outputs": [],
   "source": [
    "cols_sp    <- c( \"CF_H140\", \"CF_Hate\",\"CF_Hbic\",\"CF_Hcer\",\"CF_Hcox\" , \n",
    "                 \"CF_Hdia\",\"CF_Hgal\",  \"CF_Hlar\",  \"CF_Hrid\",  \"CF_Racu\" , \"CF_Raff\",\n",
    "                 \"CF_Rbor\"  , \"CF_Rcre\",\"CF_Rluc\" ,  \"CF_Rphi\", \"CF_Rsed\",\"CF_Rtri\" )     "
   ]
  },
  {
   "cell_type": "markdown",
   "id": "e71e5b8b",
   "metadata": {},
   "source": [
    "Create vectors for grouping"
   ]
  },
  {
   "cell_type": "code",
   "execution_count": null,
   "id": "45fd656c",
   "metadata": {},
   "outputs": [],
   "source": [
    "cols_ID    <- c(\"ID\", \"predictionsResultsCF\")\n",
    "cols_Files <- c(\"Filename\", \"predictionsResultsCF\")"
   ]
  },
  {
   "cell_type": "markdown",
   "id": "f56a043b",
   "metadata": {},
   "source": [
    " Isolate the confidence of the predicted species into new column  (***user needs to edit depending on the species listed in Levels_CF***) "
   ]
  },
  {
   "cell_type": "code",
   "execution_count": null,
   "id": "f528fd29",
   "metadata": {},
   "outputs": [],
   "source": [
    "Temp_S2_Max_ID <- PredictionsFinalStage2 %>%\n",
    "                           group_by(across(all_of(cols_ID))) %>%\n",
    "                           mutate(MaxByID = max(c(CF_H140, CF_Hate,CF_Hbic,CF_Hcer,CF_Hcox , \n",
    "                                                  CF_Hdia,CF_Hgal,  CF_Hlar,  CF_Hrid, CF_Racu , \n",
    "                                                  CF_Raff,CF_Rbor, CF_Rcre,CF_Rluc , \n",
    "                                                  CF_Rphi, CF_Rsed,CF_Rtri), na.rm = T))"
   ]
  },
  {
   "cell_type": "markdown",
   "id": "19cb0e36",
   "metadata": {},
   "source": [
    "Find the pulse of highest confidence within each file for each species  "
   ]
  },
  {
   "cell_type": "code",
   "execution_count": null,
   "id": "5ae65ab5",
   "metadata": {},
   "outputs": [],
   "source": [
    "RES_S2_summary <- Temp_S2_Max_ID %>%\n",
    "                           group_by(across(all_of(cols_Files))) %>%\n",
    "                           summarise(MaxbyFile = max(MaxByID, na.rm = T))\n"
   ]
  },
  {
   "cell_type": "markdown",
   "id": "9060b98a",
   "metadata": {},
   "source": [
    "Rename columns"
   ]
  },
  {
   "cell_type": "code",
   "execution_count": null,
   "id": "0c24ce70",
   "metadata": {},
   "outputs": [],
   "source": [
    "names(RES_S2_summary)<-c(\"Filename\",\"S2_Prediction\",\"S2_Accuracy\")"
   ]
  },
  {
   "cell_type": "markdown",
   "id": "9251bff0",
   "metadata": {},
   "source": [
    "## 6. PERFORM CLASSIFICATIONS - STAGE 3\n",
    "### For species which were identified as \"FMqCF\" (frequency modulated quasi-constant frequency) conduct a second classification stage using the third machine learning model which prioritises call shape\n",
    "#### Prepare FMqCF data\n",
    "Remove identifying information from FMqCF data "
   ]
  },
  {
   "cell_type": "code",
   "execution_count": null,
   "id": "c703013c",
   "metadata": {},
   "outputs": [],
   "source": [
    "Data_CallValues_FMqCF_noID         <-Stage1_FMqCF[,c(\"duration\",\"freq_max_amp\" , \"freq_max\", \n",
    "                                                     \"freq_min\", \"bandwidth\",\"freq_start\",\n",
    "                                                     \"freq_center\",\"freq_end\", \"freq_knee\", \"fc\",\n",
    "                                                     \"freq_bw_knee_fc\", \"bin_max_amp\",  \"pc_freq_max_amp\",\n",
    "                                                     \"pc_freq_max\",  \"pc_freq_min\", \"pc_knee\", \n",
    "                                                     \"temp_bw_knee_fc\", \"slope\", \"kalman_slope\", \n",
    "                                                     \"curve_neg\", \"curve_pos_start\", \"curve_pos_end\",\n",
    "                                                     \"mid_offset\" ,\"snr\", \"hd\", \"smoothness\")]\n",
    "                                               "
   ]
  },
  {
   "cell_type": "markdown",
   "id": "e9ec5061",
   "metadata": {},
   "source": [
    "Filter for complete cases"
   ]
  },
  {
   "cell_type": "code",
   "execution_count": null,
   "id": "d50a11ae",
   "metadata": {},
   "outputs": [],
   "source": [
    "Data_CallValues_FMqCF_noID         <-Data_CallValues_FMqCF_noID[complete.cases(Data_CallValues_FMqCF_noID), ] \n",
    "Data_CallValues_FMqCF_noID         <-drop.levels(Data_CallValues_FMqCF_noID)"
   ]
  },
  {
   "cell_type": "markdown",
   "id": "b05ca65b",
   "metadata": {},
   "source": [
    "#### Run predictions\n",
    "Run predication without confidence "
   ]
  },
  {
   "cell_type": "code",
   "execution_count": null,
   "id": "bbe65040",
   "metadata": {},
   "outputs": [],
   "source": [
    "predictionsResultsFMqCF            <-predict(model_S3_FMqCF, Data_CallValues_FMqCF_noID)"
   ]
  },
  {
   "cell_type": "markdown",
   "id": "9058f05d",
   "metadata": {},
   "source": [
    "Run predictions with confidence\n"
   ]
  },
  {
   "cell_type": "code",
   "execution_count": null,
   "id": "25c01e19",
   "metadata": {},
   "outputs": [],
   "source": [
    "PredictionResultsProb_FMqCF        <-predict(model_S3_FMqCF, Data_CallValues_FMqCF_noID, type = \"prob\")\n",
    "PredictionResultsProb_FMqCF$ID     <-Stage1_FMqCF$ID "
   ]
  },
  {
   "cell_type": "markdown",
   "id": "fc62c869",
   "metadata": {},
   "source": [
    "Combine predictions with confidence values"
   ]
  },
  {
   "cell_type": "code",
   "execution_count": null,
   "id": "cbf0e261",
   "metadata": {},
   "outputs": [],
   "source": [
    "PredictionResultsCombined_FMqCF    <-cbind(PredictionResultsProb_FMqCF, predictionsResultsFMqCF)"
   ]
  },
  {
   "cell_type": "markdown",
   "id": "70b7a498",
   "metadata": {},
   "source": [
    "Combine with file information"
   ]
  },
  {
   "cell_type": "code",
   "execution_count": null,
   "id": "bf91fc5e",
   "metadata": {},
   "outputs": [],
   "source": [
    "PredictionsFinalStage3          <-merge(PredictionResultsCombined_FMqCF, Stage1_FMqCF, by=\"ID\")"
   ]
  },
  {
   "cell_type": "markdown",
   "id": "c5bf415e",
   "metadata": {},
   "source": [
    "#### Export stage 3 predictions"
   ]
  },
  {
   "cell_type": "code",
   "execution_count": null,
   "id": "e5dbab91",
   "metadata": {},
   "outputs": [],
   "source": [
    "setwd(Dir_user_outputs)\n",
    "write.csv(PredictionsFinalStage3, file=\"Data_PredictionsStage3.csv\", na = \"NA\")"
   ]
  },
  {
   "cell_type": "markdown",
   "id": "691c2e1c",
   "metadata": {},
   "source": [
    "### Run confidence thresholds\n",
    "#### Creates table to see which files meet the confidence thresholds necessary for file structure later\n",
    "Convert ID to factor for grouping"
   ]
  },
  {
   "cell_type": "code",
   "execution_count": null,
   "id": "5cb7ba39",
   "metadata": {},
   "outputs": [],
   "source": [
    "PredictionsFinalStage3$ID            <-as.factor(PredictionsFinalStage3$ID)"
   ]
  },
  {
   "cell_type": "markdown",
   "id": "640552ba",
   "metadata": {},
   "source": [
    "Identify which FMqCF are present in the data"
   ]
  },
  {
   "cell_type": "code",
   "execution_count": null,
   "id": "152be1e0",
   "metadata": {},
   "outputs": [],
   "source": [
    "Levels_FMqCF                          <-levels(as.factor(PredictionsFinalStage3$predictionsResultsFMqCF))"
   ]
  },
  {
   "cell_type": "markdown",
   "id": "2264b2f1",
   "metadata": {},
   "source": [
    "Create vector for grouping species (***user may need to edit depending on the species listed in Levels_FMqCF***) "
   ]
  },
  {
   "cell_type": "code",
   "execution_count": null,
   "id": "d1a588b0",
   "metadata": {},
   "outputs": [],
   "source": [
    "cols_sp    <- c(\"FMqCF1\" , \"FMqCF2\",\"FMqCF3\",\"FMqCF4\" ,\"FMqCF5\",\"LF\"  , \"LF_Acup\")    "
   ]
  },
  {
   "cell_type": "markdown",
   "id": "1408da6b",
   "metadata": {},
   "source": [
    "Create vectors for grouping"
   ]
  },
  {
   "cell_type": "code",
   "execution_count": null,
   "id": "6c6b5fd2",
   "metadata": {},
   "outputs": [],
   "source": [
    "cols_ID    <- c(\"ID\", \"predictionsResultsFMqCF\")\n",
    "cols_Files <- c(\"Filename\", \"predictionsResultsFMqCF\")"
   ]
  },
  {
   "cell_type": "markdown",
   "id": "d4f5eea3",
   "metadata": {},
   "source": [
    "Isolate the confidence of the predicted species into new column"
   ]
  },
  {
   "cell_type": "code",
   "execution_count": null,
   "id": "a075e337",
   "metadata": {},
   "outputs": [],
   "source": [
    "Temp_S3_Max_ID <- PredictionsFinalStage3 %>%\n",
    "                          group_by(across(all_of(cols_ID))) %>%\n",
    "                          mutate(MaxByID = max(c(FMqCF1 , FMqCF2,FMqCF3,FMqCF4 ,\n",
    "                                                 FMqCF5,LF  , LF_Acup), na.rm = T))"
   ]
  },
  {
   "cell_type": "markdown",
   "id": "9cafa261",
   "metadata": {},
   "source": [
    "Find the pulse of highest confidence within each file for each species  "
   ]
  },
  {
   "cell_type": "code",
   "execution_count": null,
   "id": "7032eaa2",
   "metadata": {},
   "outputs": [],
   "source": [
    "RES_S3_summary <- Temp_S3_Max_ID %>%\n",
    "                          group_by(across(all_of(cols_Files))) %>%\n",
    "                          summarise(MaxbyFile = max(MaxByID, na.rm = T))\n"
   ]
  },
  {
   "cell_type": "markdown",
   "id": "006f3ae9",
   "metadata": {},
   "source": [
    "Rename columns"
   ]
  },
  {
   "cell_type": "code",
   "execution_count": null,
   "id": "156d1413",
   "metadata": {},
   "outputs": [],
   "source": [
    "names(RES_S3_summary)<-c(\"Filename\",\"S3_Prediction\",\"S3_Accuracy\")"
   ]
  },
  {
   "cell_type": "markdown",
   "id": "88799114",
   "metadata": {},
   "source": [
    "## 7. COMBINE FINAL PREDICTIONS \n",
    "### Collate predictions from each classification stage & isolate files for manual verification\n",
    "#### Create summaries\n",
    "Select relevant columns"
   ]
  },
  {
   "cell_type": "code",
   "execution_count": null,
   "id": "10ea7efc",
   "metadata": {},
   "outputs": [],
   "source": [
    "SummaryQCF             <-Stage1_QCF[, c(\"ID\",\"predictionsResultsType\",\"MaxByID\", \"Filename\", \"FileLoc\")]\n",
    "\n",
    "SummaryFM              <-Stage1_FM[, c(\"ID\",\"predictionsResultsType\",\"MaxByID\", \"Filename\", \"FileLoc\")]\n",
    "\n",
    "SummaryCF              <-Temp_S2_Max_ID[, c(\"ID\",\"predictionsResultsCF\",\"MaxByID\", \"Filename\", \"FileLoc\")]\n",
    "\n",
    "SummaryFMqCF           <-Temp_S3_Max_ID[, c(\"ID\",\"predictionsResultsFMqCF\",\"MaxByID\", \"Filename\", \"FileLoc\")]"
   ]
  },
  {
   "cell_type": "markdown",
   "id": "79407fa4",
   "metadata": {},
   "source": [
    "Rename column names to match"
   ]
  },
  {
   "cell_type": "code",
   "execution_count": null,
   "id": "51423697",
   "metadata": {},
   "outputs": [],
   "source": [
    "colnames(SummaryQCF)      <-c(\"ID\",\"Prediction\",\"Accuracy\",\"Filename\", \"FileLoc\")\n",
    "colnames(SummaryFM)       <-c(\"ID\",\"Prediction\",\"Accuracy\",\"Filename\", \"FileLoc\")\n",
    "colnames(SummaryCF)       <-c(\"ID\",\"Prediction\",\"Accuracy\",\"Filename\", \"FileLoc\")\n",
    "colnames(SummaryFMqCF)    <-c(\"ID\",\"Prediction\",\"Accuracy\",\"Filename\", \"FileLoc\")"
   ]
  },
  {
   "cell_type": "markdown",
   "id": "0c12db6f",
   "metadata": {},
   "source": [
    "#### Join predictions"
   ]
  },
  {
   "cell_type": "code",
   "execution_count": null,
   "id": "228c6cfb",
   "metadata": {},
   "outputs": [],
   "source": [
    "RES_total_raw      <-rbind(SummaryQCF, SummaryFM, SummaryCF, SummaryFMqCF)"
   ]
  },
  {
   "cell_type": "markdown",
   "id": "d3589baf",
   "metadata": {},
   "source": [
    "#### Subset again for files above 60% confidence\n",
    "This will subset for files identified in stages 2 and 3 to sonotype/species"
   ]
  },
  {
   "cell_type": "code",
   "execution_count": null,
   "id": "413d6f31",
   "metadata": {},
   "outputs": [],
   "source": [
    "RES_total_raw      <-RES_total_raw[RES_total_raw$Accuracy>0.59,]"
   ]
  },
  {
   "cell_type": "markdown",
   "id": "ab26c0a2",
   "metadata": {},
   "source": [
    "#### Export final predictions"
   ]
  },
  {
   "cell_type": "code",
   "execution_count": null,
   "id": "fa6873b6",
   "metadata": {},
   "outputs": [],
   "source": [
    "setwd(Dir_user_outputs)\n",
    "write.csv(RES_total_raw, file=\"Data_PredictionsSummary.csv\", na = \"NA\")"
   ]
  },
  {
   "cell_type": "markdown",
   "id": "7c13b631",
   "metadata": {},
   "source": [
    "### Summarise results \n",
    "#### Summarises the pulse predictions to sonotype/species identification to the file/bat pass level\n",
    "Convert to factor for grouping"
   ]
  },
  {
   "cell_type": "code",
   "execution_count": null,
   "id": "31011363",
   "metadata": {},
   "outputs": [],
   "source": [
    "RES_total_raw$ID            <-as.factor(RES_total_raw$ID)"
   ]
  },
  {
   "cell_type": "markdown",
   "id": "8a3dd9cc",
   "metadata": {},
   "source": [
    "Create vectors for grouping columns "
   ]
  },
  {
   "cell_type": "code",
   "execution_count": null,
   "id": "870ab8be",
   "metadata": {},
   "outputs": [],
   "source": [
    "cols_sp    <- levels(as.factor(RES_total_raw$Prediction))\n",
    "cols_Files <- c(\"Filename\", \"Prediction\")"
   ]
  },
  {
   "cell_type": "markdown",
   "id": "795c705c",
   "metadata": {},
   "source": [
    "Find the pulse of highest confidence within each file for each species  "
   ]
  },
  {
   "cell_type": "code",
   "execution_count": null,
   "id": "781293cd",
   "metadata": {},
   "outputs": [],
   "source": [
    "RES_total_sum <- RES_total_raw %>%\n",
    "                         group_by(across(all_of(cols_Files))) %>%\n",
    "                         summarise(MaxbyFile = max(Accuracy, na.rm = T))"
   ]
  },
  {
   "cell_type": "markdown",
   "id": "527c80d4",
   "metadata": {},
   "source": [
    "Rename columns"
   ]
  },
  {
   "cell_type": "code",
   "execution_count": null,
   "id": "fd60a177",
   "metadata": {},
   "outputs": [],
   "source": [
    "names(RES_total_sum)<-c(\"filename\",\"Prediction\",\"Accuracy\")"
   ]
  },
  {
   "cell_type": "markdown",
   "id": "cb07c2fb",
   "metadata": {},
   "source": [
    "Readd file location"
   ]
  },
  {
   "cell_type": "code",
   "execution_count": null,
   "id": "227d8525",
   "metadata": {},
   "outputs": [],
   "source": [
    "RES_total_sum <-merge(RES_total_sum, FileLoc, by=\"filename\", all= FALSE)   "
   ]
  },
  {
   "cell_type": "markdown",
   "id": "63d9be6e",
   "metadata": {},
   "source": [
    "## Isolate files for manual verification & create library\n",
    "#### The following steps if for users who are using stage 2/3 classifications. \n",
    "Selects WAV files which do not reach the necessary confidence threshold using their original filepathways and copies them into a new filepathway based on ID prediction & confidence threshold. \n",
    "\n",
    "#### Determine which files need manual verification\n",
    "Rename column levels to match"
   ]
  },
  {
   "cell_type": "code",
   "execution_count": null,
   "id": "9b781fe3",
   "metadata": {},
   "outputs": [],
   "source": [
    "colnames(Data_thres) <- c(\"Prediction\", \"Threshold\")"
   ]
  },
  {
   "cell_type": "markdown",
   "id": "f59a86f6",
   "metadata": {},
   "source": [
    "Merge confidence threshold information with the predictions data"
   ]
  },
  {
   "cell_type": "code",
   "execution_count": null,
   "id": "10f99fc5",
   "metadata": {},
   "outputs": [],
   "source": [
    "RES_total_sum        <- merge(RES_total_sum, Data_thres, by = \"Prediction\", keep.all=TRUE)"
   ]
  },
  {
   "cell_type": "markdown",
   "id": "2eca6cef",
   "metadata": {},
   "source": [
    "Create threshold level column"
   ]
  },
  {
   "cell_type": "code",
   "execution_count": null,
   "id": "f814eea6",
   "metadata": {},
   "outputs": [],
   "source": [
    "RES_total_sum$ThresLevel <-\"\""
   ]
  },
  {
   "cell_type": "markdown",
   "id": "80dec76c",
   "metadata": {},
   "source": [
    "Ensure accuracy column is numeric"
   ]
  },
  {
   "cell_type": "code",
   "execution_count": null,
   "id": "79249c1e",
   "metadata": {},
   "outputs": [],
   "source": [
    "RES_total_sum$Accuracy   <-as.numeric(RES_total_sum$Accuracy)"
   ]
  },
  {
   "cell_type": "markdown",
   "id": "dd7d4f26",
   "metadata": {},
   "source": [
    "Remove predictions below 60% confidence "
   ]
  },
  {
   "cell_type": "code",
   "execution_count": null,
   "id": "e6612412",
   "metadata": {},
   "outputs": [],
   "source": [
    "RES_total_sum <-RES_total_sum[RES_total_sum$Accuracy > 0.59,]"
   ]
  },
  {
   "cell_type": "markdown",
   "id": "f195de6a",
   "metadata": {},
   "source": [
    "Loop to determine which files met the necessarily confidence threshold"
   ]
  },
  {
   "cell_type": "code",
   "execution_count": null,
   "id": "8e8f4ab2",
   "metadata": {},
   "outputs": [],
   "source": [
    "for (y in 1:nrow(RES_total_sum)){\n",
    "  \n",
    "  if((RES_total_sum$Accuracy[y]*100) == RES_total_sum$Threshold[y]) {\n",
    "    RES_total_sum$ThresLevel[y] <- \"Met\"\n",
    "  }\n",
    "  \n",
    "  else if ((RES_total_sum$Accuracy[y]*100) > RES_total_sum$Threshold[y]) {\n",
    "    RES_total_sum$ThresLevel[y] <- \"Met\" }\n",
    "  \n",
    "  else if ((RES_total_sum$Accuracy[y]*100) < RES_total_sum$Threshold[y]) {\n",
    "    RES_total_sum$ThresLevel[y] <- \"Not Met\" }\n",
    "}"
   ]
  },
  {
   "cell_type": "markdown",
   "id": "031a991d",
   "metadata": {},
   "source": [
    "Filter data for files which did not meet the confidence threshold"
   ]
  },
  {
   "cell_type": "code",
   "execution_count": null,
   "id": "409d8f8d",
   "metadata": {},
   "outputs": [],
   "source": [
    "DF_NotMet        <-filter(RES_total_sum, (ThresLevel==\"Not Met\"))"
   ]
  },
  {
   "cell_type": "markdown",
   "id": "338918ea",
   "metadata": {},
   "source": [
    "Remove repeated files so a file is only manually checked once       "
   ]
  },
  {
   "cell_type": "code",
   "execution_count": null,
   "id": "c886c3c1",
   "metadata": {},
   "outputs": [],
   "source": [
    "DF_NotMet_unique <- DF_NotMet[!duplicated(DF_NotMet['filename']),] "
   ]
  },
  {
   "cell_type": "markdown",
   "id": "030b362e",
   "metadata": {},
   "source": [
    "Save data outputs"
   ]
  },
  {
   "cell_type": "code",
   "execution_count": null,
   "id": "7fa3f142",
   "metadata": {},
   "outputs": [],
   "source": [
    "setwd(Dir_user_outputs)\n",
    "write.csv(DF_NotMet_unique, file=\"DF_NotMet_unique.csv\", na = \"NA\")\n",
    "write.csv(RES_total_sum,   file=\"Data_PredictionsSummary_max.csv\", na = \"NA\")"
   ]
  },
  {
   "cell_type": "markdown",
   "id": "bf9efeee",
   "metadata": {},
   "source": [
    "##### !!! THE FOLLOWING CODE WILL MOVE FILES DIRECTORY ON YOUR COMPUTER !!! \n",
    "##### !!! ENSURE IT IS WORKING CORRECTLY USING A TEST FILE/BACK UP YOUR DATA BEFORE PROCEEDING !!!\n"
   ]
  },
  {
   "cell_type": "markdown",
   "id": "9d183b9f",
   "metadata": {},
   "source": [
    "Specify ID levels"
   ]
  },
  {
   "cell_type": "code",
   "execution_count": null,
   "id": "70dd5edf",
   "metadata": {},
   "outputs": [],
   "source": [
    "Lvls_stageAll     <-levels(as.factor(RES_total_sum$Prediction))"
   ]
  },
  {
   "cell_type": "markdown",
   "id": "f869f6f6",
   "metadata": {},
   "source": [
    "#### Not reversible: Loop to create new folder pathway and copy WAV files - user needs to update pathway below"
   ]
  },
  {
   "cell_type": "code",
   "execution_count": null,
   "id": "a428bbc1",
   "metadata": {},
   "outputs": [],
   "source": [
    "\n",
    "for (S in 1:length(Lvls_stageAll)){\n",
    "  \n",
    "  # Specify prediction level \n",
    "  SPECIES           <-Lvls_stageAll[S]\n",
    "  \n",
    "  # Filter data for target species & confidence threshold \n",
    "  RES_total_target  <-filter(DF_NotMet_unique_cleaned, Prediction ==SPECIES)\n",
    "  \n",
    "  # Create filename vector including file locations \n",
    "  Sp_file_list      <-as.character(RES_total_target$FileLoc)\n",
    "  \n",
    "  # Remove duplicates (shouldn't remove any values)\n",
    "  Sp_file_list      <-Sp_file_list[!duplicated(Sp_file_list)]\n",
    "  \n",
    "  # Create output folder for ID level\n",
    "  setwd(Dir_files_AutoID_WAV)\n",
    "  newdir            <-paste0(SPECIES,\"_\", \"ThresholdNotMet\")\n",
    "  dir.create(newdir)\n",
    "  \n",
    "  # Create directory in R to Species specific folder\n",
    "  Dir_temp          <-paste0(\"F:/SAFE_Data_wav5sec_IDs_auto/\",newdir)     # **** NEEDS UPDATING BY USER ****\n",
    "  \n",
    "  # Go back to input WAV files directory\n",
    "  setwd(Dir_clean_files_WAV2012)\n",
    "  \n",
    "  # Move each individual file to new directory  \n",
    "  for (F in 1:length(Sp_file_list)){ \n",
    "    \n",
    "    # Select file  \n",
    "    FILE     <-Sp_file_list[F]\n",
    "    \n",
    "    # copy files\n",
    "    file.copy(FILE, Dir_temp)\n",
    "    \n",
    "    # Progress bar  \n",
    "    print(c(\"Loop\", S, \"from\", length(Lvls_stageAll), \"File\", F, \"from\", length(Sp_file_list)))\n",
    "    \n",
    "  }\n",
    "}"
   ]
  },
  {
   "cell_type": "markdown",
   "id": "86b680f5",
   "metadata": {},
   "source": [
    "#### ---- End for all users -----  "
   ]
  },
  {
   "cell_type": "markdown",
   "id": "23bcc03c",
   "metadata": {},
   "source": [
    "Note - Recordings will differ depending on the recording equipment and conditions. Please ensure you manually check a subset of the calls that meet the confidence threshold to ensure the classifier works adequately on your data before analysing the data"
   ]
  }
 ],
 "metadata": {
  "kernelspec": {
   "display_name": "R",
   "language": "R",
   "name": "ir"
  },
  "language_info": {
   "codemirror_mode": "r",
   "file_extension": ".r",
   "mimetype": "text/x-r-source",
   "name": "R",
   "pygments_lexer": "r",
   "version": "3.6.1"
  }
 },
 "nbformat": 4,
 "nbformat_minor": 5
}
